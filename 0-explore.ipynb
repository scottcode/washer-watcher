{
 "cells": [
  {
   "cell_type": "code",
   "execution_count": null,
   "id": "981924d0-1857-4843-8090-588aba7876b3",
   "metadata": {},
   "outputs": [],
   "source": [
    "import os\n",
    "import re\n",
    "from pathlib import Path\n",
    "from collections import Counter\n",
    "\n",
    "import matplotlib.pyplot as plt\n",
    "import sklearn"
   ]
  },
  {
   "cell_type": "code",
   "execution_count": null,
   "id": "35339a66-facd-4701-bf77-d12f0ce55805",
   "metadata": {},
   "outputs": [],
   "source": [
    "datadir = Path('~/OneDrive/Documents/data/washer').expanduser()\n",
    "rawfolder = datadir.joinpath(\"Raw Data (CoolTerm)\")"
   ]
  },
  {
   "cell_type": "code",
   "execution_count": null,
   "id": "59147e9c-fd3b-4c1e-ac4c-95933c315ae4",
   "metadata": {},
   "outputs": [],
   "source": [
    "os.listdir(rawfolder)"
   ]
  },
  {
   "cell_type": "code",
   "execution_count": null,
   "id": "23b7bcb9-6d04-428c-9157-0a9e71180aa6",
   "metadata": {},
   "outputs": [],
   "source": [
    "fnames = {\n",
    "    'light': '1_Light Cycle Capture (1k to 500Ω) 2022-10-11 10-51-33.txt',\n",
    "    'lightdryer': '3_Light Cycle+Dryer Capture 2022-10-11 12-40-55.txt',\n",
    "    'dryer': '2_Dryer Capture 2022-10-11 11-57-47.txt',\n",
    "}"
   ]
  },
  {
   "cell_type": "code",
   "execution_count": null,
   "id": "baf040d2-9ebe-4e1e-b96f-2699f3a911c2",
   "metadata": {},
   "outputs": [],
   "source": [
    "raw = {}\n",
    "for alias, fname in fnames.items():\n",
    "    with open(rawfolder.joinpath(fname), 'rb') as f:\n",
    "        raw[alias] = f.read()\n"
   ]
  },
  {
   "cell_type": "code",
   "execution_count": null,
   "id": "f3346af0-6b5e-4c5d-b51c-fa2b15171135",
   "metadata": {},
   "outputs": [],
   "source": [
    "{\n",
    "    alias: len(data)\n",
    "    for alias, data in raw.items()\n",
    "}"
   ]
  },
  {
   "cell_type": "code",
   "execution_count": null,
   "id": "b8999157-b93b-4638-8b9b-b96898c901ff",
   "metadata": {},
   "outputs": [],
   "source": [
    "light = raw['light']"
   ]
  },
  {
   "cell_type": "code",
   "execution_count": null,
   "id": "a615d853-a73e-4915-af45-96cb4680b1ea",
   "metadata": {},
   "outputs": [],
   "source": []
  },
  {
   "cell_type": "code",
   "execution_count": null,
   "id": "e94f3901-9532-4349-a2ca-6f9c6bc512cf",
   "metadata": {},
   "outputs": [],
   "source": [
    "decoded = {\n",
    "    alias: data.decode('utf-8')\n",
    "    for alias, data in raw.items()\n",
    "}"
   ]
  },
  {
   "cell_type": "code",
   "execution_count": null,
   "id": "b9b2d670-964b-4f50-87d0-c743ada1691a",
   "metadata": {},
   "outputs": [],
   "source": [
    "asbytes = {\n",
    "    alias: bytearray.fromhex(data)\n",
    "    for alias, data in decoded.items()\n",
    "}"
   ]
  },
  {
   "cell_type": "code",
   "execution_count": null,
   "id": "268d0bd7-eba6-4a8b-abeb-c454f02cf066",
   "metadata": {},
   "outputs": [],
   "source": [
    "str_ = {\n",
    "    alias: ''.join(map(chr, data))\n",
    "    for alias, data in asbytes.items()\n",
    "}"
   ]
  },
  {
   "cell_type": "code",
   "execution_count": null,
   "id": "a079e4c9-b528-449d-b67c-ce2d215e5a05",
   "metadata": {},
   "outputs": [],
   "source": [
    "len(asbytes['light'])"
   ]
  },
  {
   "cell_type": "code",
   "execution_count": null,
   "id": "1cd19eba-3a2c-45ce-810e-5b4fd4b33fa4",
   "metadata": {},
   "outputs": [],
   "source": [
    "asbytes['light'][:20]"
   ]
  },
  {
   "cell_type": "code",
   "execution_count": null,
   "id": "bd28f526-1f2a-4688-b000-fbd6a75e841a",
   "metadata": {},
   "outputs": [],
   "source": [
    "decoded['light'][:60]"
   ]
  },
  {
   "cell_type": "code",
   "execution_count": null,
   "id": "2e32abcc-9754-4f0d-b888-f796ee764fea",
   "metadata": {},
   "outputs": [],
   "source": [
    "counts = {\n",
    "    alias: Counter(data)\n",
    "    for alias, data in asbytes.items()\n",
    "}"
   ]
  },
  {
   "cell_type": "code",
   "execution_count": null,
   "id": "ce17e33b-8eec-48ac-9730-02f0f533540d",
   "metadata": {},
   "outputs": [],
   "source": [
    "df_counts = pd.DataFrame.from_dict(counts)"
   ]
  },
  {
   "cell_type": "code",
   "execution_count": null,
   "id": "7db50598-faf5-4728-aeae-6c9f4a9a8cb6",
   "metadata": {},
   "outputs": [],
   "source": [
    "df_counts.sum(axis=1).sort_values(ascending=False)"
   ]
  },
  {
   "cell_type": "code",
   "execution_count": null,
   "id": "0e36ad7d-8787-4564-8a52-8a0a2a974c9b",
   "metadata": {},
   "outputs": [],
   "source": [
    "bytes([241])"
   ]
  },
  {
   "cell_type": "code",
   "execution_count": null,
   "id": "14adb467-bcb3-434e-8305-fef60319722f",
   "metadata": {},
   "outputs": [],
   "source": [
    "b'\\x'"
   ]
  },
  {
   "cell_type": "code",
   "execution_count": null,
   "id": "3a625683-3ec1-443f-8557-7fbb43913903",
   "metadata": {},
   "outputs": [],
   "source": [
    "'\\xff'"
   ]
  },
  {
   "cell_type": "code",
   "execution_count": null,
   "id": "c52dd013-f5c4-446d-b4e4-71b47d175cf1",
   "metadata": {},
   "outputs": [],
   "source": [
    "import sklearn.feature_extraction.text\n"
   ]
  },
  {
   "cell_type": "code",
   "execution_count": null,
   "id": "18a13b60-97e7-4764-8f03-42a1dd6bb3f5",
   "metadata": {},
   "outputs": [],
   "source": [
    "import sys\n",
    "sys.byteorder"
   ]
  },
  {
   "cell_type": "code",
   "execution_count": null,
   "id": "565d482e-1073-4f61-87da-31543b15a6f7",
   "metadata": {},
   "outputs": [],
   "source": [
    "hex(int.from_bytes(bytes.fromhex('e6'), sys.byteorder))[2:]"
   ]
  },
  {
   "cell_type": "code",
   "execution_count": null,
   "id": "5451419d-983c-4194-aeb3-8e0eba215217",
   "metadata": {},
   "outputs": [],
   "source": [
    "bytes.fromhex('e6').hex()"
   ]
  },
  {
   "cell_type": "code",
   "execution_count": null,
   "id": "484f9190-f88c-4497-b548-c8f3d69c187b",
   "metadata": {},
   "outputs": [],
   "source": [
    "bytes.hex"
   ]
  },
  {
   "cell_type": "code",
   "execution_count": null,
   "id": "c03d65bc-883a-4ac4-917e-78b00412b8c6",
   "metadata": {},
   "outputs": [],
   "source": [
    "def tokenizer(seq):\n",
    "    return [hex(b) for b in seq]"
   ]
  },
  {
   "cell_type": "code",
   "execution_count": null,
   "id": "02dc6ed2-9b2e-4018-adec-f8ccd5cbbffb",
   "metadata": {},
   "outputs": [],
   "source": [
    "vectorizer = sklearn.feature_extraction.text.CountVectorizer(\n",
    "    encoding='ascii',\n",
    "    tokenizer=tokenizer,\n",
    "    #token_pattern='.',\n",
    "    ngram_range=(1, 4),\n",
    ")"
   ]
  },
  {
   "cell_type": "code",
   "execution_count": null,
   "id": "b6c9b195-562e-42f4-a83e-7f24e1222674",
   "metadata": {},
   "outputs": [],
   "source": [
    "vectorized = vectorizer.fit_transform(asbytes.values())"
   ]
  },
  {
   "cell_type": "code",
   "execution_count": null,
   "id": "de818f00-cd92-42b8-b0b1-ec72916a1150",
   "metadata": {},
   "outputs": [],
   "source": [
    "vectorized"
   ]
  },
  {
   "cell_type": "code",
   "execution_count": null,
   "id": "e6f1d044-951d-4fac-8762-753f46bd9788",
   "metadata": {},
   "outputs": [],
   "source": [
    "pd.Series(vectorized.sum(axis=0).A1).hist()\n",
    "plt.yscale('log')"
   ]
  },
  {
   "cell_type": "code",
   "execution_count": null,
   "id": "b71e9e90-97f9-48d6-b5fa-7e6f6b7c715d",
   "metadata": {},
   "outputs": [],
   "source": [
    "vectorized.sum(axis=0).reshape((-1)).A1.shape"
   ]
  },
  {
   "cell_type": "code",
   "execution_count": null,
   "id": "3234b6f3-33eb-4850-bae2-8aa16c4cfdd9",
   "metadata": {},
   "outputs": [],
   "source": [
    "import binascii"
   ]
  },
  {
   "cell_type": "code",
   "execution_count": null,
   "id": "ad9366af-4ec9-433f-8402-2d22c09571a8",
   "metadata": {},
   "outputs": [],
   "source": [
    "asbytes['light'][:10]"
   ]
  },
  {
   "cell_type": "code",
   "execution_count": null,
   "id": "11a7319f-ca59-4170-bb45-b377be887641",
   "metadata": {},
   "outputs": [],
   "source": [
    "binascii.hexlify(asbytes['light'][:10])"
   ]
  },
  {
   "cell_type": "code",
   "execution_count": null,
   "id": "02c6238e-7766-418b-bfb9-e0b2b528ec6c",
   "metadata": {},
   "outputs": [],
   "source": [
    "# write bytes to files \n",
    "files = []\n",
    "for alias, data in asbytes.items():\n",
    "    path = rawfolder.joinpath('{}.raw'.format(alias))\n",
    "    files.append(path)\n",
    "    with open(path, 'wb') as f:\n",
    "        f.write(data)"
   ]
  },
  {
   "cell_type": "code",
   "execution_count": null,
   "id": "32ccb572-a95a-42b7-80a7-004626bd0e87",
   "metadata": {},
   "outputs": [],
   "source": [
    "# write bytes to files \n",
    "files2 = []\n",
    "for alias, data in str_.items():\n",
    "    path = rawfolder.joinpath('{}.raw.utf'.format(alias))\n",
    "    files2.append(path)\n",
    "    with open(path, 'w', encoding='utf-8') as f:\n",
    "        f.write(data)"
   ]
  },
  {
   "cell_type": "markdown",
   "id": "ac656ac4-828c-4009-8ebf-d1656511303a",
   "metadata": {},
   "source": [
    "## Tokenizer approach"
   ]
  },
  {
   "cell_type": "code",
   "execution_count": null,
   "id": "0ce2e423-7f96-437d-84f0-34de707f456a",
   "metadata": {},
   "outputs": [],
   "source": [
    "from tokenizers import Tokenizer\n",
    "from tokenizers.models import BPE\n",
    "from tokenizers.trainers import BpeTrainer\n"
   ]
  },
  {
   "cell_type": "code",
   "execution_count": null,
   "id": "8bea57e3-7be2-4608-8d5b-f7e1e6950265",
   "metadata": {},
   "outputs": [],
   "source": [
    "tokenizer = Tokenizer(BPE(unk_token=\"[UNK]\"))"
   ]
  },
  {
   "cell_type": "code",
   "execution_count": null,
   "id": "259f0f04-cd5c-4d8e-98d7-127d4f3dd59c",
   "metadata": {},
   "outputs": [],
   "source": [
    "trainer = BpeTrainer(\n",
    "    special_tokens=[\"[UNK]\",],\n",
    "#     min_frequency=3,\n",
    "    vocab_size=500,\n",
    ")"
   ]
  },
  {
   "cell_type": "code",
   "execution_count": null,
   "id": "896bc793-2a49-4497-994e-712d65612ae5",
   "metadata": {},
   "outputs": [],
   "source": [
    "# tokenizer.train([str(rawfolder.joinpath(fname)) for fname in fnames.values()], trainer)"
   ]
  },
  {
   "cell_type": "code",
   "execution_count": null,
   "id": "ed0e4d0d-e068-457e-8ad0-35150512bc9c",
   "metadata": {},
   "outputs": [],
   "source": [
    "tokenizer.train([str(path) for path in files2], trainer)"
   ]
  },
  {
   "cell_type": "code",
   "execution_count": null,
   "id": "b7ffb2b3-e74f-4ff8-b21e-68f462d23a6b",
   "metadata": {},
   "outputs": [],
   "source": [
    "tokenizer.get_vocab_size()"
   ]
  },
  {
   "cell_type": "code",
   "execution_count": null,
   "id": "fed805c4-a8ef-463b-bee4-0189b1137541",
   "metadata": {},
   "outputs": [],
   "source": [
    "tokenizer.get_vocab()"
   ]
  },
  {
   "cell_type": "code",
   "execution_count": null,
   "id": "b85794f7-59c9-43a7-99c4-265ff7ae895f",
   "metadata": {},
   "outputs": [],
   "source": []
  },
  {
   "cell_type": "code",
   "execution_count": null,
   "id": "6fdc93a2-c3ee-446e-bf94-0a33570faecb",
   "metadata": {},
   "outputs": [],
   "source": [
    "[[hex(ord(char)) for char in vocab] for vocab in tokenizer.get_vocab()]"
   ]
  },
  {
   "cell_type": "code",
   "execution_count": null,
   "id": "d27cb18e-3343-4c83-86d9-c5f2812ac2fe",
   "metadata": {},
   "outputs": [],
   "source": [
    "tokenizer.save(str(rawfolder.joinpath('tokenizer.json')))"
   ]
  },
  {
   "cell_type": "code",
   "execution_count": null,
   "id": "7186835e-9798-4a6d-85e4-8e832647eb60",
   "metadata": {},
   "outputs": [],
   "source": [
    "xx = tokenizer.encode(str_['light'])"
   ]
  },
  {
   "cell_type": "code",
   "execution_count": null,
   "id": "bd3953da-bc89-4d49-a1bb-9318c3c7d0f1",
   "metadata": {},
   "outputs": [],
   "source": [
    "len(xx)"
   ]
  },
  {
   "cell_type": "code",
   "execution_count": null,
   "id": "a1707d6b-2498-4466-81cc-6a83f0cb4160",
   "metadata": {},
   "outputs": [],
   "source": [
    "xx"
   ]
  },
  {
   "cell_type": "code",
   "execution_count": null,
   "id": "1995e310-0d27-4e46-b67c-47673fd84dd1",
   "metadata": {},
   "outputs": [],
   "source": [
    "xx.tokens[:20]"
   ]
  },
  {
   "cell_type": "code",
   "execution_count": null,
   "id": "b8fb0159-d326-4fc0-b89d-c233ea179d81",
   "metadata": {},
   "outputs": [],
   "source": [
    "import pandas as pd"
   ]
  },
  {
   "cell_type": "code",
   "execution_count": null,
   "id": "5758c47e-f8d9-4b59-ba14-eea9f2c02f39",
   "metadata": {},
   "outputs": [],
   "source": [
    "pd.Series(xx.tokens).value_counts()"
   ]
  },
  {
   "cell_type": "code",
   "execution_count": null,
   "id": "ceb97f98-6aa0-4e5d-ba77-897604912a9f",
   "metadata": {},
   "outputs": [],
   "source": []
  }
 ],
 "metadata": {
  "kernelspec": {
   "display_name": "NLP",
   "language": "python",
   "name": "nlp"
  },
  "language_info": {
   "codemirror_mode": {
    "name": "ipython",
    "version": 3
   },
   "file_extension": ".py",
   "mimetype": "text/x-python",
   "name": "python",
   "nbconvert_exporter": "python",
   "pygments_lexer": "ipython3",
   "version": "3.9.13"
  }
 },
 "nbformat": 4,
 "nbformat_minor": 5
}
